{
  "nbformat": 4,
  "nbformat_minor": 0,
  "metadata": {
    "colab": {
      "provenance": [],
      "authorship_tag": "ABX9TyO1XtYoMAbHHbvftgiv8gTn",
      "include_colab_link": true
    },
    "kernelspec": {
      "name": "python3",
      "display_name": "Python 3"
    },
    "language_info": {
      "name": "python"
    }
  },
  "cells": [
    {
      "cell_type": "markdown",
      "metadata": {
        "id": "view-in-github",
        "colab_type": "text"
      },
      "source": [
        "<a href=\"https://colab.research.google.com/github/LamNguyenNN/generalized-hyperbolic-embeddings/blob/main/Colab/SO(1%2C2)_and_PSL(2%2CR).ipynb\" target=\"_parent\"><img src=\"https://colab.research.google.com/assets/colab-badge.svg\" alt=\"Open In Colab\"/></a>"
      ]
    },
    {
      "cell_type": "code",
      "execution_count": null,
      "metadata": {
        "id": "dPrGXdvpqkWd"
      },
      "outputs": [],
      "source": [
        "from sympy import *"
      ]
    },
    {
      "cell_type": "code",
      "source": [
        "import numpy as np"
      ],
      "metadata": {
        "id": "WTmcMPO0KemJ"
      },
      "execution_count": null,
      "outputs": []
    },
    {
      "cell_type": "code",
      "source": [
        "def psl_so(a,b,c,d):\n",
        "  det = simplify(a*d - b*c)\n",
        "  if det < 0:\n",
        "    raise ValueError('Determinant = {} is not positive'.format(det))\n",
        "  elif det != 1:\n",
        "    raise ValueError('Determinant = {} does not equal 1'.format(det))\n",
        "\n",
        "  A = Matrix([[Rational(1,2) * (a**2 + b**2 + c**2 + d**2), -Rational(1,2) * (a**2 - b**2 + c**2 - d**2), a*b + c*d],\n",
        "            [-Rational(1,2) * (a**2 + b**2 - c**2 - d**2), Rational(1,2) * (a**2 - b**2 - c**2 + d**2), -a*b + c*d],\n",
        "            [a*c + b*d, -a*c + b*d, a*d + b*c]])\n",
        "\n",
        "  g = Matrix([[1,0,0],[0,-1,0], [0,0,-1]])\n",
        "\n",
        "  assert simplify(A.T * g * A) == g\n",
        "\n",
        "  return simplify(A)"
      ],
      "metadata": {
        "id": "8-zxvoSGaJs5"
      },
      "execution_count": null,
      "outputs": []
    },
    {
      "cell_type": "code",
      "source": [
        "def so_psl(A):\n",
        "  a, b, c, d = symbols('a b c d ')\n",
        "\n",
        "  x1 = A[0]\n",
        "  y1 = A[1]\n",
        "  z1 = A[2]\n",
        "\n",
        "  x2 = A[3]\n",
        "  y2 = A[4]\n",
        "  z2 = A[5]\n",
        "\n",
        "  x3 = A[6]\n",
        "  y3 = A[7]\n",
        "  z3 = A[8]\n",
        "\n",
        "  eqns = [2*(a**2) - x1 + y1 + x2 - y2, 2*(b**2) - x1 - y1 + x2 + y2, 2*(c**2) - x1 + y1 - x2 + y2, 2*(d**2) - x1 - y1 - x2 - y2,\n",
        "          2*b*d - x3 - y3, 2*c*d - z1 - z2, 2*a*c - x3 + y3, 2*a*b -  z1 + z2,\n",
        "          a*d - b*c - 1]\n",
        "\n",
        "  solns = solve(eqns, a,b,c,d, dict=True)\n",
        "  assert len(solns) == 2\n",
        "\n",
        "  def multi_simplify(x):\n",
        "    return simplify(sqrtdenest(radsimp(x)))\n",
        "\n",
        "  a = multi_simplify(solns[0][a])\n",
        "  b = multi_simplify(solns[0][b])\n",
        "  c = multi_simplify(solns[0][c])\n",
        "  d = multi_simplify(solns[0][d])\n",
        "\n",
        "  det = simplify(a*d - b*c)\n",
        "  assert det > 0\n",
        "\n",
        "  a = multi_simplify(a / sqrt(det))\n",
        "  b = multi_simplify(b / sqrt(det))\n",
        "  c = multi_simplify(c / sqrt(det))\n",
        "  d = multi_simplify(d / sqrt(det))\n",
        "\n",
        "\n",
        "  return Matrix([[a, b], [c, d]])"
      ],
      "metadata": {
        "id": "3Ny6Z-O8eUFL"
      },
      "execution_count": null,
      "outputs": []
    },
    {
      "cell_type": "code",
      "source": [
        "def CompanionMatrix(poly_coeffs):\n",
        "  # Returns companion matrix for a polynomial given coefficients listed in ascending order with respect to degree of term\n",
        "\n",
        "  n = len(poly_coeffs)\n",
        "  rows = []\n",
        "\n",
        "  for i in range(n):\n",
        "    row = [0]*n\n",
        "    row[i-1] = 1\n",
        "    row[-1] = poly_coeffs[i]\n",
        "    rows.append(row)\n",
        "\n",
        "  return Matrix(rows)"
      ],
      "metadata": {
        "id": "gIegb3w83_89"
      },
      "execution_count": null,
      "outputs": []
    },
    {
      "cell_type": "code",
      "source": [
        "def ConjugatorToRCF(A):\n",
        "  e1 = Matrix([[1], [0], [0]])\n",
        "  return simplify(Matrix([ [e1, A*e1, A* A * e1] ]))"
      ],
      "metadata": {
        "id": "zHQJfGvC6rZS"
      },
      "execution_count": null,
      "outputs": []
    },
    {
      "cell_type": "code",
      "source": [
        "def Mobius(a,b,c,d, z):\n",
        "  return radsimp(expand((a*z + b) / (c*z + d)))"
      ],
      "metadata": {
        "id": "vqQ3MH2cqaoW"
      },
      "execution_count": null,
      "outputs": []
    },
    {
      "cell_type": "code",
      "source": [
        "def FixedPoints(a,b,c,d):\n",
        "  trace = a + d\n",
        "  det = a*d - b*c\n",
        "  return radsimp(expand((a - d + sqrt(trace**2 - 4*det)) / (2*c))), radsimp(expand((a - d - sqrt(trace**2 - 4*det)) / (2*c)))"
      ],
      "metadata": {
        "id": "aMBPhvQDNPwH"
      },
      "execution_count": null,
      "outputs": []
    },
    {
      "cell_type": "code",
      "source": [
        "def RotationalAngle(a,b,c,d):\n",
        "  z1, z2 = FixedPoints(a,b,c,d)\n",
        "\n",
        "  if im(z1) > 0:\n",
        "    fp = z1\n",
        "  else:\n",
        "    fp = z2\n",
        "\n",
        "  x = re(fp)\n",
        "  y = im(fp)\n",
        "\n",
        "  angle_cos = expand(c * x + d)\n",
        "  angle_sin = expand(c * y)\n",
        "\n",
        "  return angle_cos, angle_sin"
      ],
      "metadata": {
        "id": "arox-0IJjYss"
      },
      "execution_count": null,
      "outputs": []
    },
    {
      "cell_type": "code",
      "source": [
        "def MobiusPointToPoint(z1, z2):\n",
        "  a,b = z1.as_real_imag()\n",
        "  c,d = z2.as_real_imag()\n",
        "\n",
        "  return simplify(Matrix([[d/b, -(a*d / b) + c], [0, 1]]))"
      ],
      "metadata": {
        "id": "P7IYTtU_USLS"
      },
      "execution_count": null,
      "outputs": []
    },
    {
      "cell_type": "code",
      "source": [
        "def Elliptic(angle, fixed_point):\n",
        "  rot = Matrix([[cos(angle), -sin(angle)], [sin(angle), cos(angle)]])\n",
        "  conj = MobiusPointToPoint(I, fixed_point)\n",
        "\n",
        "  result = conj * rot * conj.inv()\n",
        "  #if result[1] < 0:\n",
        "  #  result = -result\n",
        "\n",
        "  return expand(result).applyfunc(radsimp)"
      ],
      "metadata": {
        "id": "P11ov6CrSGlK"
      },
      "execution_count": null,
      "outputs": []
    },
    {
      "cell_type": "code",
      "source": [
        "def ValidSecondFixedPoint(init_fixed_point, angle1, angle2, n=1, use_smallest_n=False):\n",
        "  '''Returns center and radius of (euclidean) circle containing all valid fixed points for a double generated elliptic Fuchsian group given a fixed point and angle of the first generator and angle of the second generator'''\n",
        "\n",
        "  smallest_valid_n = Integer(pi/acos(cos(angle1 + angle2 + pi))) + 1\n",
        "  if use_smallest_n:\n",
        "    n = smallest_valid_n\n",
        "    print('Using smallest valid n={}'.format(smallest_valid_n))\n",
        "  else:\n",
        "    if n < smallest_valid_n:\n",
        "      print('Provided value of n = {} smaller than smallest valid value = {}'.format(n, smallest_valid_n))\n",
        "      print('Setting n to smallest valid value = {}'.format(smallest_valid_n))\n",
        "      n = smallest_valid_n\n",
        "\n",
        "  center_x = expand(re(init_fixed_point))\n",
        "  center_y = expand(im(init_fixed_point) * (cot(angle1)*cot(angle2) + cos(pi/n)*csc(angle1)*csc(angle2)))\n",
        "\n",
        "  radius_sq = expand( im(init_fixed_point)**2 * (-1 + (cot(angle1)*cot(angle2) + cos(pi/n)*csc(angle1)*csc(angle2))**2) )\n",
        "  radius = radsimp(sqrt(radius_sq))\n",
        "\n",
        "  return center_x, center_y , radius"
      ],
      "metadata": {
        "id": "fuBe53RJXRM5"
      },
      "execution_count": null,
      "outputs": []
    },
    {
      "cell_type": "code",
      "source": [
        "a,b,n = symbols('a b n', real=True)\n",
        "ValidSecondFixedPoint(a+b*I, 5*pi/6, 5*pi/6, n=3)"
      ],
      "metadata": {
        "colab": {
          "base_uri": "https://localhost:8080/"
        },
        "id": "DwZDJ2OFXwTv",
        "outputId": "578e6263-7493-4a2e-fa75-66b55dbafcf0"
      },
      "execution_count": null,
      "outputs": [
        {
          "output_type": "execute_result",
          "data": {
            "text/plain": [
              "(a, 5*b, 2*sqrt(6)*Abs(b))"
            ]
          },
          "metadata": {},
          "execution_count": 17
        }
      ]
    },
    {
      "cell_type": "code",
      "source": [
        "expand(((1-sqrt(3))/2 - (1+sqrt(3))/2)**2 + ((-1+sqrt(3))/2 - 5*((1+sqrt(3))/2))**2)"
      ],
      "metadata": {
        "colab": {
          "base_uri": "https://localhost:8080/",
          "height": 38
        },
        "id": "Q_850PuWkoJ3",
        "outputId": "174be688-1710-4c9c-a6cb-f358afc2f916"
      },
      "execution_count": null,
      "outputs": [
        {
          "output_type": "execute_result",
          "data": {
            "text/plain": [
              "12*sqrt(3) + 24"
            ],
            "text/latex": "$\\displaystyle 12 \\sqrt{3} + 24$"
          },
          "metadata": {},
          "execution_count": 93
        }
      ]
    },
    {
      "cell_type": "code",
      "source": [
        "expand(((1+sqrt(3))/2)**2)*24"
      ],
      "metadata": {
        "colab": {
          "base_uri": "https://localhost:8080/",
          "height": 38
        },
        "id": "gWdpMlMglIOl",
        "outputId": "c06e2be5-85ce-4d66-b2ed-747b5bef21f3"
      },
      "execution_count": null,
      "outputs": [
        {
          "output_type": "execute_result",
          "data": {
            "text/plain": [
              "12*sqrt(3) + 24"
            ],
            "text/latex": "$\\displaystyle 12 \\sqrt{3} + 24$"
          },
          "metadata": {},
          "execution_count": 94
        }
      ]
    },
    {
      "cell_type": "code",
      "source": [
        "a, b, c, d, t, s, x, y = symbols('a b c d t s x y', real=True)"
      ],
      "metadata": {
        "id": "_1ZmFZURQzKZ"
      },
      "execution_count": null,
      "outputs": []
    },
    {
      "cell_type": "code",
      "source": [
        "A = simplify(MobiusPointToPoint(I, a+I*b) * Matrix([[cos(t), -sin(t)], [sin(t), cos(t)]]) * MobiusPointToPoint(I, a+I*b).inv())"
      ],
      "metadata": {
        "id": "IGEjHY8zRFeo"
      },
      "execution_count": null,
      "outputs": []
    },
    {
      "cell_type": "code",
      "source": [
        "B = simplify(MobiusPointToPoint(I, x+I*y) * Matrix([[cos(s), -sin(s)], [sin(s), cos(s)]]) * MobiusPointToPoint(I, x+I*y).inv())"
      ],
      "metadata": {
        "id": "SPX_s4RXWqlH"
      },
      "execution_count": null,
      "outputs": []
    },
    {
      "cell_type": "code",
      "source": [
        "expand(A*B).trace()"
      ],
      "metadata": {
        "colab": {
          "base_uri": "https://localhost:8080/",
          "height": 57
        },
        "id": "cgW6OlLyuhhG",
        "outputId": "7304f0c4-46fb-407e-f0c1-58a9a87d7574"
      },
      "execution_count": null,
      "outputs": [
        {
          "output_type": "execute_result",
          "data": {
            "text/plain": [
              "-a**2*sin(s)*sin(t)/(b*y) + 2*a*x*sin(s)*sin(t)/(b*y) - b*sin(s)*sin(t)/y + 2*cos(s)*cos(t) - x**2*sin(s)*sin(t)/(b*y) - y*sin(s)*sin(t)/b"
            ],
            "text/latex": "$\\displaystyle - \\frac{a^{2} \\sin{\\left(s \\right)} \\sin{\\left(t \\right)}}{b y} + \\frac{2 a x \\sin{\\left(s \\right)} \\sin{\\left(t \\right)}}{b y} - \\frac{b \\sin{\\left(s \\right)} \\sin{\\left(t \\right)}}{y} + 2 \\cos{\\left(s \\right)} \\cos{\\left(t \\right)} - \\frac{x^{2} \\sin{\\left(s \\right)} \\sin{\\left(t \\right)}}{b y} - \\frac{y \\sin{\\left(s \\right)} \\sin{\\left(t \\right)}}{b}$"
          },
          "metadata": {},
          "execution_count": 46
        }
      ]
    },
    {
      "cell_type": "code",
      "source": [
        "A_ = A.subs([(t,5*pi/6), (a, -1/2), (b,1/2)])"
      ],
      "metadata": {
        "id": "OVt6_h8aXRcU"
      },
      "execution_count": null,
      "outputs": []
    },
    {
      "cell_type": "code",
      "source": [
        "B_ = B.subs([(t,5*pi/6), (c, 1/4), (d,1/4)])"
      ],
      "metadata": {
        "id": "qQATeFQpMeMn"
      },
      "execution_count": null,
      "outputs": []
    },
    {
      "cell_type": "code",
      "source": [
        "A_"
      ],
      "metadata": {
        "colab": {
          "base_uri": "https://localhost:8080/",
          "height": 68
        },
        "id": "aLpaW2i4Mqat",
        "outputId": "8b95d476-1b0e-47f7-ba32-e1dd6ac2b50e"
      },
      "execution_count": null,
      "outputs": [
        {
          "output_type": "execute_result",
          "data": {
            "text/plain": [
              "Matrix([\n",
              "[-sqrt(3)/2 - 0.5,            -0.5],\n",
              "[             1.0, 0.5 - sqrt(3)/2]])"
            ],
            "text/latex": "$\\displaystyle \\left[\\begin{matrix}- \\frac{\\sqrt{3}}{2} - 0.5 & -0.5\\\\1.0 & 0.5 - \\frac{\\sqrt{3}}{2}\\end{matrix}\\right]$"
          },
          "metadata": {},
          "execution_count": 35
        }
      ]
    },
    {
      "cell_type": "code",
      "source": [
        "B_"
      ],
      "metadata": {
        "colab": {
          "base_uri": "https://localhost:8080/",
          "height": 68
        },
        "id": "94GXWqzcbO8-",
        "outputId": "e979f390-263e-4577-f3a5-05dc5580d104"
      },
      "execution_count": null,
      "outputs": [
        {
          "output_type": "execute_result",
          "data": {
            "text/plain": [
              "Matrix([\n",
              "[0.5 - sqrt(3)/2,            -0.25],\n",
              "[            2.0, -sqrt(3)/2 - 0.5]])"
            ],
            "text/latex": "$\\displaystyle \\left[\\begin{matrix}0.5 - \\frac{\\sqrt{3}}{2} & -0.25\\\\2.0 & - \\frac{\\sqrt{3}}{2} - 0.5\\end{matrix}\\right]$"
          },
          "metadata": {},
          "execution_count": 36
        }
      ]
    },
    {
      "cell_type": "code",
      "source": [
        "A = psl_so(*Matrix([[cos(t), -sin(t)], [sin(t), cos(t)]])).subs([(t,pi/2)])"
      ],
      "metadata": {
        "id": "qDT-t-dgdI1Y"
      },
      "execution_count": null,
      "outputs": []
    },
    {
      "cell_type": "code",
      "source": [
        "A**2"
      ],
      "metadata": {
        "colab": {
          "base_uri": "https://localhost:8080/",
          "height": 78
        },
        "id": "Sb92em3Sdhb4",
        "outputId": "362579fa-103d-43cf-f257-faacd4812a6c"
      },
      "execution_count": null,
      "outputs": [
        {
          "output_type": "execute_result",
          "data": {
            "text/plain": [
              "Matrix([\n",
              "[1, 0, 0],\n",
              "[0, 1, 0],\n",
              "[0, 0, 1]])"
            ],
            "text/latex": "$\\displaystyle \\left[\\begin{matrix}1 & 0 & 0\\\\0 & 1 & 0\\\\0 & 0 & 1\\end{matrix}\\right]$"
          },
          "metadata": {},
          "execution_count": 83
        }
      ]
    },
    {
      "cell_type": "code",
      "source": [
        "factor(psl_so(*Matrix([[cos(t), -sin(t)], [sin(t), cos(t)]])).subs([(t, pi/2)]).charpoly().as_expr())"
      ],
      "metadata": {
        "colab": {
          "base_uri": "https://localhost:8080/",
          "height": 39
        },
        "id": "9xtZinrZbCDC",
        "outputId": "2dc88088-86fa-48ad-a010-eac5e08e470b"
      },
      "execution_count": null,
      "outputs": [
        {
          "output_type": "execute_result",
          "data": {
            "text/plain": [
              "(lambda - 1)*(lambda + 1)**2"
            ],
            "text/latex": "$\\displaystyle \\left(\\lambda - 1\\right) \\left(\\lambda + 1\\right)^{2}$"
          },
          "metadata": {},
          "execution_count": 82
        }
      ]
    },
    {
      "cell_type": "code",
      "source": [
        "# Isometries in SO(1,2)\n",
        "A = Matrix([[2, sqrt(3), 0], [0, 0, -1], [sqrt(3), 2, 0]])\n",
        "B = Matrix([[2, -sqrt(3), 0], [0, 0, -1], [-sqrt(3), 2, 0]])"
      ],
      "metadata": {
        "id": "bNR8zO2o0o-u"
      },
      "execution_count": null,
      "outputs": []
    },
    {
      "cell_type": "code",
      "source": [
        "# Convert to isometries in PSL(2,R)\n",
        "T_A = so_psl(A)\n",
        "T_B = so_psl(B)"
      ],
      "metadata": {
        "id": "YHAGh42q0qK9"
      },
      "execution_count": null,
      "outputs": []
    },
    {
      "cell_type": "code",
      "source": [
        "# Standard elliptic element that A is conjugate to\n",
        "R_A = Matrix([[cos(5*pi/6), -sin(5*pi/6)], [sin(5*pi/6), cos(5*pi/6)]])\n",
        "\n",
        "# Element that conjugates R_A to A\n",
        "P_A = Matrix([[1 + sqrt(3), -1 - sqrt(3)], [2,0]])"
      ],
      "metadata": {
        "id": "vUraOyjC0pYh"
      },
      "execution_count": null,
      "outputs": []
    },
    {
      "cell_type": "code",
      "source": [
        "# Rational Canonical Form for A and B\n",
        "RCF = CompanionMatrix(1,-2,2)"
      ],
      "metadata": {
        "id": "OE1QxnfY1-Ai"
      },
      "execution_count": null,
      "outputs": []
    },
    {
      "cell_type": "code",
      "source": [
        "RCF_A = ConjugatorToRCF(A)\n",
        "RCF_B = ConjugatorToRCF(B)"
      ],
      "metadata": {
        "id": "Knyx5s5q2Oc8"
      },
      "execution_count": null,
      "outputs": []
    },
    {
      "cell_type": "code",
      "source": [
        "P_new = Matrix([[1,1],[0,1]])\n",
        "T_B_new = P_new * R_A * P_new.inv()"
      ],
      "metadata": {
        "id": "Fv6IqngnM29O"
      },
      "execution_count": null,
      "outputs": []
    },
    {
      "cell_type": "code",
      "source": [
        "B_new = psl_so(*T_B_new)"
      ],
      "metadata": {
        "id": "rgn1hlfaPp-9"
      },
      "execution_count": null,
      "outputs": []
    },
    {
      "cell_type": "code",
      "source": [
        "test = ConjugatorToRCF(B_new)"
      ],
      "metadata": {
        "id": "mINZ6t79OYDP"
      },
      "execution_count": null,
      "outputs": []
    },
    {
      "cell_type": "code",
      "source": [
        "so_psl(B_new)"
      ],
      "metadata": {
        "colab": {
          "base_uri": "https://localhost:8080/",
          "height": 68
        },
        "id": "AXCC8PTAOyik",
        "outputId": "777d01ae-8cce-4d2e-f335-7b9c0e88f0b6"
      },
      "execution_count": null,
      "outputs": [
        {
          "output_type": "execute_result",
          "data": {
            "text/plain": [
              "Matrix([\n",
              "[1/2 - sqrt(3)/2,               -1],\n",
              "[            1/2, -sqrt(3)/2 - 1/2]])"
            ],
            "text/latex": "$\\displaystyle \\left[\\begin{matrix}\\frac{1}{2} - \\frac{\\sqrt{3}}{2} & -1\\\\\\frac{1}{2} & - \\frac{\\sqrt{3}}{2} - \\frac{1}{2}\\end{matrix}\\right]$"
          },
          "metadata": {},
          "execution_count": 157
        }
      ]
    },
    {
      "cell_type": "code",
      "source": [],
      "metadata": {
        "colab": {
          "base_uri": "https://localhost:8080/",
          "height": 68
        },
        "id": "3q1fCPDuO0bK",
        "outputId": "95046def-3235-4d6b-9c2c-614a2ff7fd5a"
      },
      "execution_count": null,
      "outputs": [
        {
          "output_type": "execute_result",
          "data": {
            "text/plain": [
              "Matrix([\n",
              "[1/2 - sqrt(3)/2,               -1],\n",
              "[            1/2, -sqrt(3)/2 - 1/2]])"
            ],
            "text/latex": "$\\displaystyle \\left[\\begin{matrix}\\frac{1}{2} - \\frac{\\sqrt{3}}{2} & -1\\\\\\frac{1}{2} & - \\frac{\\sqrt{3}}{2} - \\frac{1}{2}\\end{matrix}\\right]$"
          },
          "metadata": {},
          "execution_count": 158
        }
      ]
    },
    {
      "cell_type": "code",
      "source": [
        "A = Elliptic(5*pi/6, 1 + sqrt(2)*I)\n",
        "B = Elliptic(5*pi/6, -sqrt(3) + I)"
      ],
      "metadata": {
        "id": "EqcMPAKnTI4b"
      },
      "execution_count": null,
      "outputs": []
    },
    {
      "cell_type": "code",
      "source": [
        "A.trace"
      ],
      "metadata": {
        "colab": {
          "base_uri": "https://localhost:8080/",
          "height": 68
        },
        "id": "32bjcgh2Tel7",
        "outputId": "86e7cb55-ff58-417e-f108-e51c1a677736"
      },
      "execution_count": null,
      "outputs": [
        {
          "output_type": "execute_result",
          "data": {
            "text/plain": [
              "Matrix([\n",
              "[    -sqrt(6)/4 - 3*sqrt(2)/8 + 3/2, -sqrt(2)/2 + sqrt(3)],\n",
              "[-sqrt(6)/4 - sqrt(3)/4 - sqrt(2)/8,           -sqrt(2)/2]])"
            ],
            "text/latex": "$\\displaystyle \\left[\\begin{matrix}- \\frac{\\sqrt{6}}{4} - \\frac{3 \\sqrt{2}}{8} + \\frac{3}{2} & - \\frac{\\sqrt{2}}{2} + \\sqrt{3}\\\\- \\frac{\\sqrt{6}}{4} - \\frac{\\sqrt{3}}{4} - \\frac{\\sqrt{2}}{8} & - \\frac{\\sqrt{2}}{2}\\end{matrix}\\right]$"
          },
          "metadata": {},
          "execution_count": 156
        }
      ]
    },
    {
      "cell_type": "code",
      "source": [
        "expand((A*B).trace())"
      ],
      "metadata": {
        "colab": {
          "base_uri": "https://localhost:8080/",
          "height": 55
        },
        "id": "eOFVC7luTTP0",
        "outputId": "a8f47afb-52d3-412f-f0d0-98484cfe3848"
      },
      "execution_count": null,
      "outputs": [
        {
          "output_type": "execute_result",
          "data": {
            "text/plain": [
              "-7*sqrt(2)/8 - sqrt(6)/4 + 3/2"
            ],
            "text/latex": "$\\displaystyle - \\frac{7 \\sqrt{2}}{8} - \\frac{\\sqrt{6}}{4} + \\frac{3}{2}$"
          },
          "metadata": {},
          "execution_count": 159
        }
      ]
    },
    {
      "cell_type": "markdown",
      "source": [
        "## Scratch work"
      ],
      "metadata": {
        "id": "rgikw46U0l8_"
      }
    },
    {
      "cell_type": "code",
      "source": [
        "T1 = so_psl(Matrix([[2, sqrt(3), 0], [0, 0, -1], [sqrt(3), 2, 0]]))"
      ],
      "metadata": {
        "id": "Cru2P8lEryFo"
      },
      "execution_count": null,
      "outputs": []
    },
    {
      "cell_type": "code",
      "source": [
        "T2 = so_psl(Matrix([[2, -sqrt(3), 0], [0, 0, -1], [-sqrt(3), 2, 0]]))"
      ],
      "metadata": {
        "id": "i7LSLyIAhRe7"
      },
      "execution_count": null,
      "outputs": []
    },
    {
      "cell_type": "code",
      "source": [
        "T1"
      ],
      "metadata": {
        "colab": {
          "base_uri": "https://localhost:8080/",
          "height": 68
        },
        "id": "_Q84uB7Lsc5Z",
        "outputId": "332a359e-2903-49cc-b112-0163450c883d"
      },
      "execution_count": null,
      "outputs": [
        {
          "output_type": "execute_result",
          "data": {
            "text/plain": [
              "Matrix([\n",
              "[ 1/2 - sqrt(3)/2, -sqrt(3)/2 - 1/2],\n",
              "[-1/2 + sqrt(3)/2, -sqrt(3)/2 - 1/2]])"
            ],
            "text/latex": "$\\displaystyle \\left[\\begin{matrix}\\frac{1}{2} - \\frac{\\sqrt{3}}{2} & - \\frac{\\sqrt{3}}{2} - \\frac{1}{2}\\\\- \\frac{1}{2} + \\frac{\\sqrt{3}}{2} & - \\frac{\\sqrt{3}}{2} - \\frac{1}{2}\\end{matrix}\\right]$"
          },
          "metadata": {},
          "execution_count": 9
        }
      ]
    },
    {
      "cell_type": "code",
      "source": [
        "psl_so(*T1).charpoly()"
      ],
      "metadata": {
        "colab": {
          "base_uri": "https://localhost:8080/",
          "height": 39
        },
        "id": "47PHMTjMyU--",
        "outputId": "aea0a1de-f2b6-4936-a04a-f97e3ce8338b"
      },
      "execution_count": null,
      "outputs": [
        {
          "output_type": "execute_result",
          "data": {
            "text/plain": [
              "PurePoly(lambda**3 - 2*lambda**2 + 2*lambda - 1, lambda, domain='ZZ')"
            ],
            "text/latex": "$\\displaystyle \\operatorname{PurePoly}{\\left( \\lambda^{3} - 2 \\lambda^{2} + 2 \\lambda - 1, \\lambda, domain=\\mathbb{Z} \\right)}$"
          },
          "metadata": {},
          "execution_count": 49
        }
      ]
    },
    {
      "cell_type": "code",
      "source": [
        "psl_so(*T2).charpoly()"
      ],
      "metadata": {
        "colab": {
          "base_uri": "https://localhost:8080/",
          "height": 39
        },
        "id": "TOV7aBMjvjKs",
        "outputId": "bc4f9887-6c38-40c7-8d0e-957f74158080"
      },
      "execution_count": null,
      "outputs": [
        {
          "output_type": "execute_result",
          "data": {
            "text/plain": [
              "PurePoly(lambda**3 - 2*lambda**2 + 2*lambda - 1, lambda, domain='ZZ')"
            ],
            "text/latex": "$\\displaystyle \\operatorname{PurePoly}{\\left( \\lambda^{3} - 2 \\lambda^{2} + 2 \\lambda - 1, \\lambda, domain=\\mathbb{Z} \\right)}$"
          },
          "metadata": {},
          "execution_count": 66
        }
      ]
    },
    {
      "cell_type": "code",
      "source": [
        "A = Matrix([[2, sqrt(3), 0], [0, 0, -1], [sqrt(3), 2, 0]])"
      ],
      "metadata": {
        "id": "rqg3tK58ue_o"
      },
      "execution_count": null,
      "outputs": []
    },
    {
      "cell_type": "code",
      "source": [
        "B = Matrix([[2, -sqrt(3), 0], [0, 0, -1], [-sqrt(3), 2, 0]])"
      ],
      "metadata": {
        "id": "HMLzCzNUyE4i"
      },
      "execution_count": null,
      "outputs": []
    },
    {
      "cell_type": "code",
      "source": [
        "A.charpoly()"
      ],
      "metadata": {
        "colab": {
          "base_uri": "https://localhost:8080/",
          "height": 39
        },
        "id": "8wvoeME7Uzxe",
        "outputId": "e4c5da33-fed4-4177-d238-36c5e436bad5"
      },
      "execution_count": null,
      "outputs": [
        {
          "output_type": "execute_result",
          "data": {
            "text/plain": [
              "PurePoly(lambda**3 - 2*lambda**2 + 2*lambda - 1, lambda, domain='ZZ')"
            ],
            "text/latex": "$\\displaystyle \\operatorname{PurePoly}{\\left( \\lambda^{3} - 2 \\lambda^{2} + 2 \\lambda - 1, \\lambda, domain=\\mathbb{Z} \\right)}$"
          },
          "metadata": {},
          "execution_count": 54
        }
      ]
    },
    {
      "cell_type": "code",
      "source": [
        "B.charpoly()"
      ],
      "metadata": {
        "colab": {
          "base_uri": "https://localhost:8080/",
          "height": 39
        },
        "id": "qqzOCq6Iye2q",
        "outputId": "047b4758-7d87-46c6-a511-f4ac829b9b51"
      },
      "execution_count": null,
      "outputs": [
        {
          "output_type": "execute_result",
          "data": {
            "text/plain": [
              "PurePoly(lambda**3 - 2*lambda**2 + 2*lambda - 1, lambda, domain='ZZ')"
            ],
            "text/latex": "$\\displaystyle \\operatorname{PurePoly}{\\left( \\lambda^{3} - 2 \\lambda^{2} + 2 \\lambda - 1, \\lambda, domain=\\mathbb{Z} \\right)}$"
          },
          "metadata": {},
          "execution_count": 55
        }
      ]
    },
    {
      "cell_type": "code",
      "source": [
        "B**2 - B"
      ],
      "metadata": {
        "colab": {
          "base_uri": "https://localhost:8080/",
          "height": 81
        },
        "id": "u69yFZkUymJL",
        "outputId": "47b1329c-a855-4141-ca55-1a535aedd677"
      },
      "execution_count": null,
      "outputs": [
        {
          "output_type": "execute_result",
          "data": {
            "text/plain": [
              "Matrix([\n",
              "[       2, -sqrt(3), sqrt(3)],\n",
              "[ sqrt(3),       -2,       1],\n",
              "[-sqrt(3),        1,      -2]])"
            ],
            "text/latex": "$\\displaystyle \\left[\\begin{matrix}2 & - \\sqrt{3} & \\sqrt{3}\\\\\\sqrt{3} & -2 & 1\\\\- \\sqrt{3} & 1 & -2\\end{matrix}\\right]$"
          },
          "metadata": {},
          "execution_count": 61
        }
      ]
    },
    {
      "cell_type": "code",
      "source": [
        "A**2 - A"
      ],
      "metadata": {
        "colab": {
          "base_uri": "https://localhost:8080/",
          "height": 81
        },
        "id": "hCZGZx7tyycn",
        "outputId": "d2494a18-a3c9-40c8-bdd2-666849b49029"
      },
      "execution_count": null,
      "outputs": [
        {
          "output_type": "execute_result",
          "data": {
            "text/plain": [
              "Matrix([\n",
              "[       2, sqrt(3), -sqrt(3)],\n",
              "[-sqrt(3),      -2,        1],\n",
              "[ sqrt(3),       1,       -2]])"
            ],
            "text/latex": "$\\displaystyle \\left[\\begin{matrix}2 & \\sqrt{3} & - \\sqrt{3}\\\\- \\sqrt{3} & -2 & 1\\\\\\sqrt{3} & 1 & -2\\end{matrix}\\right]$"
          },
          "metadata": {},
          "execution_count": 59
        }
      ]
    },
    {
      "cell_type": "code",
      "source": [
        "P, M = A.jordan_form()"
      ],
      "metadata": {
        "id": "0CquH0H4U0v3"
      },
      "execution_count": null,
      "outputs": []
    },
    {
      "cell_type": "code",
      "source": [
        "P"
      ],
      "metadata": {
        "id": "hvljuubgjEJG",
        "outputId": "1dcf5a64-5d8b-44f1-d5df-e2ae8fde5edd",
        "colab": {
          "base_uri": "https://localhost:8080/",
          "height": 92
        }
      },
      "execution_count": null,
      "outputs": [
        {
          "output_type": "execute_result",
          "data": {
            "text/plain": [
              "Matrix([\n",
              "[sqrt(3), 2*sqrt(3)*I/(sqrt(3) + 3*I), -2*sqrt(3)*I/(sqrt(3) - 3*I)],\n",
              "[     -1,      1/(-1/2 + sqrt(3)*I/2),       1/(-1/2 - sqrt(3)*I/2)],\n",
              "[      1,                           1,                            1]])"
            ],
            "text/latex": "$\\displaystyle \\left[\\begin{matrix}\\sqrt{3} & \\frac{2 \\sqrt{3} i}{\\sqrt{3} + 3 i} & - \\frac{2 \\sqrt{3} i}{\\sqrt{3} - 3 i}\\\\-1 & \\frac{1}{- \\frac{1}{2} + \\frac{\\sqrt{3} i}{2}} & \\frac{1}{- \\frac{1}{2} - \\frac{\\sqrt{3} i}{2}}\\\\1 & 1 & 1\\end{matrix}\\right]$"
          },
          "metadata": {},
          "execution_count": 26
        }
      ]
    },
    {
      "cell_type": "code",
      "source": [
        "radsimp(P[4])"
      ],
      "metadata": {
        "id": "2q_nhSWMVLOh",
        "colab": {
          "base_uri": "https://localhost:8080/",
          "height": 55
        },
        "outputId": "a901ac13-2503-42fd-f167-e4618b3ce3a1"
      },
      "execution_count": null,
      "outputs": [
        {
          "output_type": "execute_result",
          "data": {
            "text/plain": [
              "(-1 - sqrt(3)*I)/2"
            ],
            "text/latex": "$\\displaystyle \\frac{-1 - \\sqrt{3} i}{2}$"
          },
          "metadata": {},
          "execution_count": 29
        }
      ]
    },
    {
      "cell_type": "code",
      "source": [
        "M"
      ],
      "metadata": {
        "id": "qlqOwjS7YjA3",
        "colab": {
          "base_uri": "https://localhost:8080/",
          "height": 88
        },
        "outputId": "17f12e01-c1d7-4f6c-febc-52018f814795"
      },
      "execution_count": null,
      "outputs": [
        {
          "output_type": "execute_result",
          "data": {
            "text/plain": [
              "Matrix([\n",
              "[1,                 0,                 0],\n",
              "[0, 1/2 - sqrt(3)*I/2,                 0],\n",
              "[0,                 0, 1/2 + sqrt(3)*I/2]])"
            ],
            "text/latex": "$\\displaystyle \\left[\\begin{matrix}1 & 0 & 0\\\\0 & \\frac{1}{2} - \\frac{\\sqrt{3} i}{2} & 0\\\\0 & 0 & \\frac{1}{2} + \\frac{\\sqrt{3} i}{2}\\end{matrix}\\right]$"
          },
          "metadata": {},
          "execution_count": 22
        }
      ]
    },
    {
      "cell_type": "code",
      "source": [
        "P = Matrix([[1 + sqrt(3), -1 - sqrt(3)], [2,0]])"
      ],
      "metadata": {
        "id": "xyI6-ckji9o3"
      },
      "execution_count": null,
      "outputs": []
    },
    {
      "cell_type": "code",
      "source": [
        "P = simplify(P/ sqrt(P.det()))"
      ],
      "metadata": {
        "id": "Itv9JEuCxbSu"
      },
      "execution_count": null,
      "outputs": []
    },
    {
      "cell_type": "code",
      "source": [
        "A = Matrix([[cos(5*pi/6), -sin(5*pi/6)], [sin(5*pi/6), cos(5*pi/6)]])"
      ],
      "metadata": {
        "id": "IYKYqQUClq9M"
      },
      "execution_count": null,
      "outputs": []
    },
    {
      "cell_type": "code",
      "source": [
        "A = Matrix([[-sqrt(3)/2, Rational(-1,2)], [Rational(1,2), -sqrt(3)/2]])"
      ],
      "metadata": {
        "id": "35M0JHfup7lk"
      },
      "execution_count": null,
      "outputs": []
    },
    {
      "cell_type": "code",
      "source": [
        "psl_so(*P).charpoly()"
      ],
      "metadata": {
        "colab": {
          "base_uri": "https://localhost:8080/",
          "height": 68
        },
        "id": "j15b09cNwZ7A",
        "outputId": "37656b35-25ed-4886-f501-836c2aa8c5ca"
      },
      "execution_count": null,
      "outputs": [
        {
          "output_type": "execute_result",
          "data": {
            "text/plain": [
              "PurePoly(lambda**3 + (1/2 - sqrt(3)/2)*lambda**2 + (-1/2 + sqrt(3)/2)*lambda - 1, lambda, domain='EX')"
            ],
            "text/latex": "$\\displaystyle \\operatorname{PurePoly}{\\left( \\lambda^{3} + \\left(\\frac{1}{2} - \\frac{\\sqrt{3}}{2}\\right) \\lambda^{2} + \\left(- \\frac{1}{2} + \\frac{\\sqrt{3}}{2}\\right) \\lambda - 1, \\lambda, domain=\\mathtt{\\text{EX}} \\right)}$"
          },
          "metadata": {},
          "execution_count": 46
        }
      ]
    },
    {
      "cell_type": "code",
      "source": [
        "simplify(P*A*P.inv())"
      ],
      "metadata": {
        "colab": {
          "base_uri": "https://localhost:8080/",
          "height": 68
        },
        "id": "Tvsr7lGulScX",
        "outputId": "74152e9c-04f3-4c36-c3ad-0c6511b2896b"
      },
      "execution_count": null,
      "outputs": [
        {
          "output_type": "execute_result",
          "data": {
            "text/plain": [
              "Matrix([\n",
              "[ 1/2 - sqrt(3)/2, -sqrt(3)/2 - 1/2],\n",
              "[-1/2 + sqrt(3)/2, -sqrt(3)/2 - 1/2]])"
            ],
            "text/latex": "$\\displaystyle \\left[\\begin{matrix}\\frac{1}{2} - \\frac{\\sqrt{3}}{2} & - \\frac{\\sqrt{3}}{2} - \\frac{1}{2}\\\\- \\frac{1}{2} + \\frac{\\sqrt{3}}{2} & - \\frac{\\sqrt{3}}{2} - \\frac{1}{2}\\end{matrix}\\right]$"
          },
          "metadata": {},
          "execution_count": 47
        }
      ]
    },
    {
      "cell_type": "code",
      "source": [
        "P.inv()"
      ],
      "metadata": {
        "colab": {
          "base_uri": "https://localhost:8080/",
          "height": 61
        },
        "id": "JsdLlP-aozzh",
        "outputId": "eedf93c2-7953-4faf-bf88-98c11843e3ab"
      },
      "execution_count": null,
      "outputs": [
        {
          "output_type": "execute_result",
          "data": {
            "text/plain": [
              "Matrix([\n",
              "[                 0, 1/2],\n",
              "[-2/(2 + 2*sqrt(3)), 1/2]])"
            ],
            "text/latex": "$\\displaystyle \\left[\\begin{matrix}0 & \\frac{1}{2}\\\\- \\frac{2}{2 + 2 \\sqrt{3}} & \\frac{1}{2}\\end{matrix}\\right]$"
          },
          "metadata": {},
          "execution_count": 26
        }
      ]
    },
    {
      "cell_type": "code",
      "source": [
        "B = Matrix([[(1-sqrt(3))/2, (-1-sqrt(3))/2], [(-1+sqrt(3))/2, (-1-sqrt(3))/2]])"
      ],
      "metadata": {
        "id": "PubpT-6UlkdZ"
      },
      "execution_count": null,
      "outputs": []
    },
    {
      "cell_type": "code",
      "source": [
        "B"
      ],
      "metadata": {
        "colab": {
          "base_uri": "https://localhost:8080/",
          "height": 68
        },
        "id": "fGCNp4K_oNGQ",
        "outputId": "83f57da2-a322-47f6-c3ec-930c766388da"
      },
      "execution_count": null,
      "outputs": [
        {
          "output_type": "execute_result",
          "data": {
            "text/plain": [
              "Matrix([\n",
              "[ 1/2 - sqrt(3)/2, -sqrt(3)/2 - 1/2],\n",
              "[-1/2 + sqrt(3)/2, -sqrt(3)/2 - 1/2]])"
            ],
            "text/latex": "$\\displaystyle \\left[\\begin{matrix}\\frac{1}{2} - \\frac{\\sqrt{3}}{2} & - \\frac{\\sqrt{3}}{2} - \\frac{1}{2}\\\\- \\frac{1}{2} + \\frac{\\sqrt{3}}{2} & - \\frac{\\sqrt{3}}{2} - \\frac{1}{2}\\end{matrix}\\right]$"
          },
          "metadata": {},
          "execution_count": 40
        }
      ]
    },
    {
      "cell_type": "code",
      "source": [
        "B.eigenvals()"
      ],
      "metadata": {
        "colab": {
          "base_uri": "https://localhost:8080/"
        },
        "id": "lZvnUeMMmCbT",
        "outputId": "f57b586b-81c8-4c3f-ba5e-0d3be160c257"
      },
      "execution_count": null,
      "outputs": [
        {
          "output_type": "execute_result",
          "data": {
            "text/plain": [
              "{-sqrt(3)/2 - I/2: 1, -sqrt(3)/2 + I/2: 1}"
            ]
          },
          "metadata": {},
          "execution_count": 19
        }
      ]
    },
    {
      "cell_type": "code",
      "source": [
        "v2 = expand(B.eigenvects()[0][2][0])\n",
        "v1 = expand(B.eigenvects()[1][2][0])"
      ],
      "metadata": {
        "id": "Ey90Esk9mCkt"
      },
      "execution_count": null,
      "outputs": []
    },
    {
      "cell_type": "code",
      "source": [
        "v1 + v2"
      ],
      "metadata": {
        "colab": {
          "base_uri": "https://localhost:8080/",
          "height": 59
        },
        "id": "yUTxhxNmmLQC",
        "outputId": "8f431004-0abc-4fca-9840-2657e545737a"
      },
      "execution_count": null,
      "outputs": [
        {
          "output_type": "execute_result",
          "data": {
            "text/plain": [
              "Matrix([\n",
              "[1 + sqrt(3)],\n",
              "[          2]])"
            ],
            "text/latex": "$\\displaystyle \\left[\\begin{matrix}1 + \\sqrt{3}\\\\2\\end{matrix}\\right]$"
          },
          "metadata": {},
          "execution_count": 38
        }
      ]
    },
    {
      "cell_type": "code",
      "source": [
        "expand(I*(v1 - v2))"
      ],
      "metadata": {
        "colab": {
          "base_uri": "https://localhost:8080/",
          "height": 59
        },
        "id": "4w6k5dvKmh8P",
        "outputId": "b3fed9ba-5441-4634-fa53-37befb5e1d7c"
      },
      "execution_count": null,
      "outputs": [
        {
          "output_type": "execute_result",
          "data": {
            "text/plain": [
              "Matrix([\n",
              "[-sqrt(3) - 1],\n",
              "[           0]])"
            ],
            "text/latex": "$\\displaystyle \\left[\\begin{matrix}- \\sqrt{3} - 1\\\\0\\end{matrix}\\right]$"
          },
          "metadata": {},
          "execution_count": 39
        }
      ]
    },
    {
      "cell_type": "code",
      "source": [
        "radsimp(((-sqrt(3)/2)*I - (1/2)) / ((1/2)*I - (sqrt(3)/2)))"
      ],
      "metadata": {
        "colab": {
          "base_uri": "https://localhost:8080/",
          "height": 39
        },
        "id": "QPk2abI-qTXq",
        "outputId": "18af3317-3ed9-45e5-ee5e-1d0928081ea9"
      },
      "execution_count": null,
      "outputs": [
        {
          "output_type": "execute_result",
          "data": {
            "text/plain": [
              "1.0*I"
            ],
            "text/latex": "$\\displaystyle 1.0 i$"
          },
          "metadata": {},
          "execution_count": 81
        }
      ]
    },
    {
      "cell_type": "code",
      "source": [
        "Mobius(-sqrt(3)/2, Rational(-1,2), Rational(1,2), -sqrt(3)/2, I)"
      ],
      "metadata": {
        "colab": {
          "base_uri": "https://localhost:8080/",
          "height": 39
        },
        "id": "q8_5Sn3VqwRj",
        "outputId": "7de2a9e2-401b-439f-8418-8e6475ca6193"
      },
      "execution_count": null,
      "outputs": [
        {
          "output_type": "execute_result",
          "data": {
            "text/plain": [
              "I"
            ],
            "text/latex": "$\\displaystyle i$"
          },
          "metadata": {},
          "execution_count": 55
        }
      ]
    },
    {
      "cell_type": "code",
      "source": [
        "FixedPoint(-sqrt(3)/2, Rational(-1,2), Rational(1,2), -sqrt(3)/2)"
      ],
      "metadata": {
        "id": "uGaKI48cqzRm",
        "colab": {
          "base_uri": "https://localhost:8080/"
        },
        "outputId": "14fbbc3b-5ec1-451a-c1f2-7c231bae703a"
      },
      "execution_count": null,
      "outputs": [
        {
          "output_type": "execute_result",
          "data": {
            "text/plain": [
              "(I, -I)"
            ]
          },
          "metadata": {},
          "execution_count": 56
        }
      ]
    },
    {
      "cell_type": "code",
      "source": [
        "FixedPoint(*B)[0]"
      ],
      "metadata": {
        "colab": {
          "base_uri": "https://localhost:8080/",
          "height": 55
        },
        "id": "pt7UOYyVObE3",
        "outputId": "aa317a5e-3d8f-4bdb-dc1f-da4145b2779d"
      },
      "execution_count": null,
      "outputs": [
        {
          "output_type": "execute_result",
          "data": {
            "text/plain": [
              "(1 + sqrt(3) + I + sqrt(3)*I)/2"
            ],
            "text/latex": "$\\displaystyle \\frac{1 + \\sqrt{3} + i + \\sqrt{3} i}{2}$"
          },
          "metadata": {},
          "execution_count": 57
        }
      ]
    },
    {
      "cell_type": "code",
      "source": [
        "Mobius(*P.inv(), FixedPoint(*B)[0])"
      ],
      "metadata": {
        "colab": {
          "base_uri": "https://localhost:8080/",
          "height": 39
        },
        "id": "kQjAhDVfO9Tn",
        "outputId": "20476532-b3c1-4965-d66e-5c98475fac0d"
      },
      "execution_count": null,
      "outputs": [
        {
          "output_type": "execute_result",
          "data": {
            "text/plain": [
              "I"
            ],
            "text/latex": "$\\displaystyle i$"
          },
          "metadata": {},
          "execution_count": 58
        }
      ]
    },
    {
      "cell_type": "code",
      "source": [
        "Mobius(*P, I)"
      ],
      "metadata": {
        "colab": {
          "base_uri": "https://localhost:8080/",
          "height": 55
        },
        "id": "Ptw9JbyaPsDA",
        "outputId": "9427ceac-5ecd-415d-8b0e-cffabcc0aa0a"
      },
      "execution_count": null,
      "outputs": [
        {
          "output_type": "execute_result",
          "data": {
            "text/plain": [
              "1/2 + (sqrt(3) + I + sqrt(3)*I)/2"
            ],
            "text/latex": "$\\displaystyle \\frac{1}{2} + \\frac{\\sqrt{3} + i + \\sqrt{3} i}{2}$"
          },
          "metadata": {},
          "execution_count": 59
        }
      ]
    },
    {
      "cell_type": "code",
      "source": [
        "Matrix([[1,2,4], [0,0,-sqrt(3)],[0, sqrt(3), 2*sqrt(3)]]) * Matrix([[0,0,1], [1,0,-2], [0,1,2]]) * Matrix([[1,2,4], [0,0,-sqrt(3)],[0, sqrt(3), 2*sqrt(3)]]).inv()"
      ],
      "metadata": {
        "id": "TQsY2CdSPzxl",
        "colab": {
          "base_uri": "https://localhost:8080/",
          "height": 80
        },
        "outputId": "63e3161e-0342-4f79-ad11-5d97498a19fe"
      },
      "execution_count": null,
      "outputs": [
        {
          "output_type": "execute_result",
          "data": {
            "text/plain": [
              "Matrix([\n",
              "[      2, sqrt(3),  0],\n",
              "[      0,       0, -1],\n",
              "[sqrt(3),       2,  0]])"
            ],
            "text/latex": "$\\displaystyle \\left[\\begin{matrix}2 & \\sqrt{3} & 0\\\\0 & 0 & -1\\\\\\sqrt{3} & 2 & 0\\end{matrix}\\right]$"
          },
          "metadata": {},
          "execution_count": 62
        }
      ]
    },
    {
      "cell_type": "code",
      "source": [
        "a,b,c,d, x, y,t = symbols('a b c d x y t')"
      ],
      "metadata": {
        "id": "O5B5hF7Q0PFH"
      },
      "execution_count": null,
      "outputs": []
    },
    {
      "cell_type": "code",
      "source": [
        "solns = solve([a*x + b + c*(-x**2 + y**2) - d*x, a*y - 2*x*y*c - d*y, c*x + d - cos(t), c*y - sin(t)], a,b,c,d)"
      ],
      "metadata": {
        "id": "Y8EMszLDTb0z"
      },
      "execution_count": null,
      "outputs": []
    },
    {
      "cell_type": "code",
      "source": [
        "a_ = solns[a]\n",
        "b_ = solns[b]\n",
        "c_ = solns[c]\n",
        "d_ = solns[d]"
      ],
      "metadata": {
        "id": "Z7WSddvzcOin"
      },
      "execution_count": null,
      "outputs": []
    },
    {
      "cell_type": "code",
      "source": [
        "expand(psl_so(a_, b_, c_, d_))"
      ],
      "metadata": {
        "colab": {
          "base_uri": "https://localhost:8080/",
          "height": 119
        },
        "id": "nskGruCdQFTa",
        "outputId": "5b74d15b-5713-439a-e000-0c6f5f6fc43f"
      },
      "execution_count": null,
      "outputs": [
        {
          "output_type": "execute_result",
          "data": {
            "text/plain": [
              "Matrix([\n",
              "[                          x**4*sin(t)**2/(2*y**2) + x**2*sin(t)**2 + x**2*sin(t)**2/y**2 + y**2*sin(t)**2/2 + cos(t)**2 + sin(t)**2/(2*y**2), -x**4*cos(2*t)/(4*y**2) + x**4/(4*y**2) - x**2*cos(2*t)/2 + x**2/2 - x*sin(2*t)/y - y**2*cos(2*t)/4 + y**2/4 + cos(2*t)/(4*y**2) - 1/(4*y**2), -x**3*sin(t)**2/y**2 - x**2*sin(t)*cos(t)/y - x*sin(t)**2 - x*sin(t)**2/y**2 - y*sin(t)*cos(t) + sin(t)*cos(t)/y],\n",
              "[x**4*cos(2*t)/(4*y**2) - x**4/(4*y**2) + x**2*cos(2*t)/2 - x**2/2 - x*sin(2*t)/y + y**2*cos(2*t)/4 - y**2/4 - cos(2*t)/(4*y**2) + 1/(4*y**2),                           -x**4*sin(t)**2/(2*y**2) - x**2*sin(t)**2 + x**2*sin(t)**2/y**2 - y**2*sin(t)**2/2 + cos(t)**2 - sin(t)**2/(2*y**2),  x**3*sin(t)**2/y**2 + x**2*sin(t)*cos(t)/y + x*sin(t)**2 - x*sin(t)**2/y**2 + y*sin(t)*cos(t) + sin(t)*cos(t)/y],\n",
              "[                             x**3*sin(t)**2/y**2 - x**2*sin(t)*cos(t)/y + x*sin(t)**2 + x*sin(t)**2/y**2 - y*sin(t)*cos(t) + sin(t)*cos(t)/y,                               x**3*sin(t)**2/y**2 - x**2*sin(t)*cos(t)/y + x*sin(t)**2 - x*sin(t)**2/y**2 - y*sin(t)*cos(t) - sin(t)*cos(t)/y,                                                                         -2*x**2*sin(t)**2/y**2 - 2*sin(t)**2 + 1]])"
            ],
            "text/latex": "$\\displaystyle \\left[\\begin{matrix}\\frac{x^{4} \\sin^{2}{\\left(t \\right)}}{2 y^{2}} + x^{2} \\sin^{2}{\\left(t \\right)} + \\frac{x^{2} \\sin^{2}{\\left(t \\right)}}{y^{2}} + \\frac{y^{2} \\sin^{2}{\\left(t \\right)}}{2} + \\cos^{2}{\\left(t \\right)} + \\frac{\\sin^{2}{\\left(t \\right)}}{2 y^{2}} & - \\frac{x^{4} \\cos{\\left(2 t \\right)}}{4 y^{2}} + \\frac{x^{4}}{4 y^{2}} - \\frac{x^{2} \\cos{\\left(2 t \\right)}}{2} + \\frac{x^{2}}{2} - \\frac{x \\sin{\\left(2 t \\right)}}{y} - \\frac{y^{2} \\cos{\\left(2 t \\right)}}{4} + \\frac{y^{2}}{4} + \\frac{\\cos{\\left(2 t \\right)}}{4 y^{2}} - \\frac{1}{4 y^{2}} & - \\frac{x^{3} \\sin^{2}{\\left(t \\right)}}{y^{2}} - \\frac{x^{2} \\sin{\\left(t \\right)} \\cos{\\left(t \\right)}}{y} - x \\sin^{2}{\\left(t \\right)} - \\frac{x \\sin^{2}{\\left(t \\right)}}{y^{2}} - y \\sin{\\left(t \\right)} \\cos{\\left(t \\right)} + \\frac{\\sin{\\left(t \\right)} \\cos{\\left(t \\right)}}{y}\\\\\\frac{x^{4} \\cos{\\left(2 t \\right)}}{4 y^{2}} - \\frac{x^{4}}{4 y^{2}} + \\frac{x^{2} \\cos{\\left(2 t \\right)}}{2} - \\frac{x^{2}}{2} - \\frac{x \\sin{\\left(2 t \\right)}}{y} + \\frac{y^{2} \\cos{\\left(2 t \\right)}}{4} - \\frac{y^{2}}{4} - \\frac{\\cos{\\left(2 t \\right)}}{4 y^{2}} + \\frac{1}{4 y^{2}} & - \\frac{x^{4} \\sin^{2}{\\left(t \\right)}}{2 y^{2}} - x^{2} \\sin^{2}{\\left(t \\right)} + \\frac{x^{2} \\sin^{2}{\\left(t \\right)}}{y^{2}} - \\frac{y^{2} \\sin^{2}{\\left(t \\right)}}{2} + \\cos^{2}{\\left(t \\right)} - \\frac{\\sin^{2}{\\left(t \\right)}}{2 y^{2}} & \\frac{x^{3} \\sin^{2}{\\left(t \\right)}}{y^{2}} + \\frac{x^{2} \\sin{\\left(t \\right)} \\cos{\\left(t \\right)}}{y} + x \\sin^{2}{\\left(t \\right)} - \\frac{x \\sin^{2}{\\left(t \\right)}}{y^{2}} + y \\sin{\\left(t \\right)} \\cos{\\left(t \\right)} + \\frac{\\sin{\\left(t \\right)} \\cos{\\left(t \\right)}}{y}\\\\\\frac{x^{3} \\sin^{2}{\\left(t \\right)}}{y^{2}} - \\frac{x^{2} \\sin{\\left(t \\right)} \\cos{\\left(t \\right)}}{y} + x \\sin^{2}{\\left(t \\right)} + \\frac{x \\sin^{2}{\\left(t \\right)}}{y^{2}} - y \\sin{\\left(t \\right)} \\cos{\\left(t \\right)} + \\frac{\\sin{\\left(t \\right)} \\cos{\\left(t \\right)}}{y} & \\frac{x^{3} \\sin^{2}{\\left(t \\right)}}{y^{2}} - \\frac{x^{2} \\sin{\\left(t \\right)} \\cos{\\left(t \\right)}}{y} + x \\sin^{2}{\\left(t \\right)} - \\frac{x \\sin^{2}{\\left(t \\right)}}{y^{2}} - y \\sin{\\left(t \\right)} \\cos{\\left(t \\right)} - \\frac{\\sin{\\left(t \\right)} \\cos{\\left(t \\right)}}{y} & - \\frac{2 x^{2} \\sin^{2}{\\left(t \\right)}}{y^{2}} - 2 \\sin^{2}{\\left(t \\right)} + 1\\end{matrix}\\right]$"
          },
          "metadata": {},
          "execution_count": 16
        }
      ]
    },
    {
      "cell_type": "code",
      "source": [
        "T_A"
      ],
      "metadata": {
        "colab": {
          "base_uri": "https://localhost:8080/",
          "height": 68
        },
        "id": "iTIVwL3Ph1ht",
        "outputId": "f35dc080-2dca-4b45-92bb-dddc85eb17e1"
      },
      "execution_count": null,
      "outputs": [
        {
          "output_type": "execute_result",
          "data": {
            "text/plain": [
              "Matrix([\n",
              "[ 1/2 - sqrt(3)/2, -sqrt(3)/2 - 1/2],\n",
              "[-1/2 + sqrt(3)/2, -sqrt(3)/2 - 1/2]])"
            ],
            "text/latex": "$\\displaystyle \\left[\\begin{matrix}\\frac{1}{2} - \\frac{\\sqrt{3}}{2} & - \\frac{\\sqrt{3}}{2} - \\frac{1}{2}\\\\- \\frac{1}{2} + \\frac{\\sqrt{3}}{2} & - \\frac{\\sqrt{3}}{2} - \\frac{1}{2}\\end{matrix}\\right]$"
          },
          "metadata": {},
          "execution_count": 82
        }
      ]
    },
    {
      "cell_type": "code",
      "source": [
        "FixedPoints(*T_A)[0]"
      ],
      "metadata": {
        "colab": {
          "base_uri": "https://localhost:8080/",
          "height": 55
        },
        "id": "yWmVGG4GhiEl",
        "outputId": "0a4e3555-f316-4c90-9e0e-60794058f22a"
      },
      "execution_count": null,
      "outputs": [
        {
          "output_type": "execute_result",
          "data": {
            "text/plain": [
              "(1 + sqrt(3) + I + sqrt(3)*I)/2"
            ],
            "text/latex": "$\\displaystyle \\frac{1 + \\sqrt{3} + i + \\sqrt{3} i}{2}$"
          },
          "metadata": {},
          "execution_count": 80
        }
      ]
    },
    {
      "cell_type": "code",
      "source": [
        "expand(Matrix([[a_, b_], [c_, d_]]).subs([(x, (1+sqrt(3))/2), (y, (1+sqrt(3))/2), (t,5*pi/6)]))"
      ],
      "metadata": {
        "colab": {
          "base_uri": "https://localhost:8080/",
          "height": 68
        },
        "id": "7Y4ViU3McsXg",
        "outputId": "aff9a0ce-b6c3-4755-b21d-f9e6ffa7ea50"
      },
      "execution_count": null,
      "outputs": [
        {
          "output_type": "execute_result",
          "data": {
            "text/plain": [
              "Matrix([\n",
              "[1/2 - sqrt(3)/2, -sqrt(3)/2 - 1/2],\n",
              "[1/(1 + sqrt(3)), -sqrt(3)/2 - 1/2]])"
            ],
            "text/latex": "$\\displaystyle \\left[\\begin{matrix}\\frac{1}{2} - \\frac{\\sqrt{3}}{2} & - \\frac{\\sqrt{3}}{2} - \\frac{1}{2}\\\\\\frac{1}{1 + \\sqrt{3}} & - \\frac{\\sqrt{3}}{2} - \\frac{1}{2}\\end{matrix}\\right]$"
          },
          "metadata": {},
          "execution_count": 83
        }
      ]
    },
    {
      "cell_type": "code",
      "source": [
        "psl_so(*expand(Matrix([[a_, b_], [c_, d_]]).subs([(x, 0), (y, 1), (t,pi/5)]))).charpoly()"
      ],
      "metadata": {
        "colab": {
          "base_uri": "https://localhost:8080/",
          "height": 68
        },
        "id": "8_h_qlYQh6ao",
        "outputId": "fce88d3d-2d8b-44c2-eb2e-3bfb8420c85d"
      },
      "execution_count": null,
      "outputs": [
        {
          "output_type": "execute_result",
          "data": {
            "text/plain": [
              "PurePoly(lambda**3 + (-sqrt(5)/2 - 1/2)*lambda**2 + (1/2 + sqrt(5)/2)*lambda - 1, lambda, domain='EX')"
            ],
            "text/latex": "$\\displaystyle \\operatorname{PurePoly}{\\left( \\lambda^{3} + \\left(- \\frac{\\sqrt{5}}{2} - \\frac{1}{2}\\right) \\lambda^{2} + \\left(\\frac{1}{2} + \\frac{\\sqrt{5}}{2}\\right) \\lambda - 1, \\lambda, domain=\\mathtt{\\text{EX}} \\right)}$"
          },
          "metadata": {},
          "execution_count": 104
        }
      ]
    }
  ]
}